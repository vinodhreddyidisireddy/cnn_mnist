{
  "nbformat": 4,
  "nbformat_minor": 0,
  "metadata": {
    "colab": {
      "name": "Keras_Mnist.ipynb",
      "provenance": [],
      "collapsed_sections": []
    },
    "kernelspec": {
      "name": "python3",
      "display_name": "Python 3"
    },
    "accelerator": "TPU"
  },
  "cells": [
    {
      "cell_type": "markdown",
      "metadata": {
        "id": "UTJmsXnXQKbG"
      },
      "source": [
        "## Keras -- MLPs on MNIST"
      ]
    },
    {
      "cell_type": "code",
      "metadata": {
        "id": "2UILABPAQKbH"
      },
      "source": [
        "# if you keras is not using tensorflow as backend set \"KERAS_BACKEND=tensorflow\" use this command\n",
        "from keras.utils import np_utils \n",
        "from keras.datasets import mnist \n",
        "import seaborn as sns\n",
        "from keras.initializers import RandomNormal"
      ],
      "execution_count": null,
      "outputs": []
    },
    {
      "cell_type": "code",
      "metadata": {
        "id": "lOO-TM_7QKbM"
      },
      "source": [
        "%matplotlib inline\n",
        "import matplotlib.pyplot as plt\n",
        "import numpy as np\n",
        "import time\n",
        "# https://gist.github.com/greydanus/f6eee59eaf1d90fcb3b534a25362cea4\n",
        "# https://stackoverflow.com/a/14434334\n",
        "# this function is used to update the plots for each epoch and error\n",
        "def plt_dynamic(x, vy, ty, ax, colors=['b']):\n",
        "    ax.plot(x, vy, 'b', label=\"Validation Loss\")\n",
        "    ax.plot(x, ty, 'r', label=\"Train Loss\")\n",
        "    plt.legend()\n",
        "    plt.grid()\n",
        "    fig.canvas.draw()"
      ],
      "execution_count": null,
      "outputs": []
    },
    {
      "cell_type": "code",
      "metadata": {
        "id": "TKmYKnibQKbQ",
        "colab": {
          "base_uri": "https://localhost:8080/",
          "height": 51
        },
        "outputId": "099f544d-dd96-4333-87aa-73922c1965a1"
      },
      "source": [
        "# the data, shuffled and split between train and test sets \n",
        "(X_train, y_train), (X_test, y_test) = mnist.load_data()"
      ],
      "execution_count": null,
      "outputs": [
        {
          "output_type": "stream",
          "text": [
            "Downloading data from https://s3.amazonaws.com/img-datasets/mnist.npz\n",
            "11493376/11490434 [==============================] - 0s 0us/step\n"
          ],
          "name": "stdout"
        }
      ]
    },
    {
      "cell_type": "code",
      "metadata": {
        "id": "CCwnZae-QKbT",
        "colab": {
          "base_uri": "https://localhost:8080/",
          "height": 51
        },
        "outputId": "148730e4-a7e8-4137-db3b-f45e749814a0"
      },
      "source": [
        "print(\"Number of training examples :\", X_train.shape[0], \"and each image is of shape (%d, %d)\"%(X_train.shape[1], X_train.shape[2]))\n",
        "print(\"Number of training examples :\", X_test.shape[0], \"and each image is of shape (%d, %d)\"%(X_test.shape[1], X_test.shape[2]))"
      ],
      "execution_count": null,
      "outputs": [
        {
          "output_type": "stream",
          "text": [
            "Number of training examples : 60000 and each image is of shape (28, 28)\n",
            "Number of training examples : 10000 and each image is of shape (28, 28)\n"
          ],
          "name": "stdout"
        }
      ]
    },
    {
      "cell_type": "code",
      "metadata": {
        "id": "BlotuCmoQKbW"
      },
      "source": [
        "# if you observe the input shape its 3 dimensional vector\n",
        "# for each image we have a (28*28) vector\n",
        "# we will convert the (28*28) vector into single dimensional vector of 1 * 784 \n",
        "\n",
        "X_train = X_train.reshape(X_train.shape[0], X_train.shape[1]*X_train.shape[2]) \n",
        "X_test = X_test.reshape(X_test.shape[0], X_test.shape[1]*X_test.shape[2]) "
      ],
      "execution_count": null,
      "outputs": []
    },
    {
      "cell_type": "code",
      "metadata": {
        "id": "8JvpNJy4QKbY",
        "colab": {
          "base_uri": "https://localhost:8080/",
          "height": 51
        },
        "outputId": "45bbc73f-e627-491b-8bdd-72a16cda9764"
      },
      "source": [
        "# after converting the input images from 3d to 2d vectors\n",
        "\n",
        "print(\"Number of training examples :\", X_train.shape[0], \"and each image is of shape (%d)\"%(X_train.shape[1]))\n",
        "print(\"Number of training examples :\", X_test.shape[0], \"and each image is of shape (%d)\"%(X_test.shape[1]))"
      ],
      "execution_count": null,
      "outputs": [
        {
          "output_type": "stream",
          "text": [
            "Number of training examples : 60000 and each image is of shape (784)\n",
            "Number of training examples : 10000 and each image is of shape (784)\n"
          ],
          "name": "stdout"
        }
      ]
    },
    {
      "cell_type": "code",
      "metadata": {
        "id": "qvuaHDk0QKbb"
      },
      "source": [
        "# An example data point\n",
        "#print(X_train[0])"
      ],
      "execution_count": null,
      "outputs": []
    },
    {
      "cell_type": "code",
      "metadata": {
        "id": "lfohtdKPQKbd"
      },
      "source": [
        "# if we observe the above matrix each cell is having a value between 0-255\n",
        "# before we move to apply machine learning algorithms lets try to normalize the data\n",
        "# X => (X - Xmin)/(Xmax-Xmin) = X/255\n",
        "\n",
        "X_train = X_train/255\n",
        "X_test = X_test/255"
      ],
      "execution_count": null,
      "outputs": []
    },
    {
      "cell_type": "code",
      "metadata": {
        "id": "4C-dmsXJQKbf"
      },
      "source": [
        "# example data point after normlizing\n",
        "#print(X_train[0])"
      ],
      "execution_count": null,
      "outputs": []
    },
    {
      "cell_type": "code",
      "metadata": {
        "id": "3Ruu-vXzQKbi",
        "colab": {
          "base_uri": "https://localhost:8080/",
          "height": 51
        },
        "outputId": "0701305d-cbfe-46d7-bc5e-120b89d14d55"
      },
      "source": [
        "# here we are having a class number for each image\n",
        "print(\"Class label of first image :\", y_train[0])\n",
        "\n",
        "# lets convert this into a 10 dimensional vector\n",
        "# ex: consider an image is 5 convert it into 5 => [0, 0, 0, 0, 0, 1, 0, 0, 0, 0]\n",
        "# this conversion needed for MLPs \n",
        "\n",
        "Y_train = np_utils.to_categorical(y_train, 10) \n",
        "Y_test = np_utils.to_categorical(y_test, 10)\n",
        "\n",
        "print(\"After converting the output into a vector : \",Y_train[0])"
      ],
      "execution_count": null,
      "outputs": [
        {
          "output_type": "stream",
          "text": [
            "Class label of first image : 5\n",
            "After converting the output into a vector :  [0. 0. 0. 0. 0. 1. 0. 0. 0. 0.]\n"
          ],
          "name": "stdout"
        }
      ]
    },
    {
      "cell_type": "markdown",
      "metadata": {
        "id": "u0pWB6UyQKbk"
      },
      "source": [
        "<h2>  Softmax classifier  </h2>"
      ]
    },
    {
      "cell_type": "code",
      "metadata": {
        "id": "tLAGMubCQKbm"
      },
      "source": [
        "# https://keras.io/getting-started/sequential-model-guide/\n",
        "\n",
        "# The Sequential model is a linear stack of layers.\n",
        "# you can create a Sequential model by passing a list of layer instances to the constructor:\n",
        "\n",
        "# model = Sequential([\n",
        "#     Dense(32, input_shape=(784,)),\n",
        "#     Activation('relu'),\n",
        "#     Dense(10),\n",
        "#     Activation('softmax'),\n",
        "# ])\n",
        "\n",
        "# You can also simply add layers via the .add() method:\n",
        "\n",
        "# model = Sequential()\n",
        "# model.add(Dense(32, input_dim=784))\n",
        "# model.add(Activation('relu'))\n",
        "\n",
        "###\n",
        "\n",
        "# https://keras.io/layers/core/\n",
        "\n",
        "# keras.layers.Dense(units, activation=None, use_bias=True, kernel_initializer='glorot_uniform', \n",
        "# bias_initializer='zeros', kernel_regularizer=None, bias_regularizer=None, activity_regularizer=None, \n",
        "# kernel_constraint=None, bias_constraint=None)\n",
        "\n",
        "# Dense implements the operation: output = activation(dot(input, kernel) + bias) where\n",
        "# activation is the element-wise activation function passed as the activation argument, \n",
        "# kernel is a weights matrix created by the layer, and \n",
        "# bias is a bias vector created by the layer (only applicable if use_bias is True).\n",
        "\n",
        "# output = activation(dot(input, kernel) + bias)  => y = activation(WT. X + b)\n",
        "\n",
        "####\n",
        "\n",
        "# https://keras.io/activations/\n",
        "\n",
        "# Activations can either be used through an Activation layer, or through the activation argument supported by all forward layers:\n",
        "\n",
        "# from keras.layers import Activation, Dense\n",
        "\n",
        "# model.add(Dense(64))\n",
        "# model.add(Activation('tanh'))\n",
        "\n",
        "# This is equivalent to:\n",
        "# model.add(Dense(64, activation='tanh'))\n",
        "\n",
        "# there are many activation functions ar available ex: tanh, relu, softmax\n",
        "\n",
        "\n",
        "from keras.models import Sequential \n",
        "from keras.layers import Dense, Activation \n"
      ],
      "execution_count": null,
      "outputs": []
    },
    {
      "cell_type": "code",
      "metadata": {
        "id": "I0s7jzhVQKbn"
      },
      "source": [
        "# some model parameters\n",
        "\n",
        "output_dim = 10\n",
        "input_dim = X_train.shape[1]\n",
        "\n",
        "batch_size = 256 \n",
        "nb_epoch = 20"
      ],
      "execution_count": null,
      "outputs": []
    },
    {
      "cell_type": "markdown",
      "metadata": {
        "id": "eh4VWYrHQKbz"
      },
      "source": [
        " <h3>  MLP + Sigmoid activation + SGDOptimizer </h3>"
      ]
    },
    {
      "cell_type": "code",
      "metadata": {
        "id": "7rzbngqHQKbz",
        "colab": {
          "base_uri": "https://localhost:8080/",
          "height": 204
        },
        "outputId": "736120fd-339c-4c5b-cd9d-bcab87ae976d"
      },
      "source": [
        "# Multilayer perceptron\n",
        "\n",
        "model_relu = Sequential()\n",
        "model_relu.add(Dense(392, activation='relu', input_shape=(input_dim,),kernel_initializer='he_normal'))\n",
        "model_relu.add(Dense(output_dim, activation='softmax'))\n",
        "\n",
        "model_relu.summary()"
      ],
      "execution_count": null,
      "outputs": [
        {
          "output_type": "stream",
          "text": [
            "_________________________________________________________________\n",
            "Layer (type)                 Output Shape              Param #   \n",
            "=================================================================\n",
            "dense_10 (Dense)             (None, 392)               307720    \n",
            "_________________________________________________________________\n",
            "dense_11 (Dense)             (None, 10)                3930      \n",
            "=================================================================\n",
            "Total params: 311,650\n",
            "Trainable params: 311,650\n",
            "Non-trainable params: 0\n",
            "_________________________________________________________________\n"
          ],
          "name": "stdout"
        }
      ]
    },
    {
      "cell_type": "code",
      "metadata": {
        "id": "48vVImSpQKb5",
        "colab": {
          "base_uri": "https://localhost:8080/",
          "height": 714
        },
        "outputId": "21db34fd-6f54-4131-e81e-cf7ede385640"
      },
      "source": [
        "model_relu.compile(optimizer='Adam', loss='categorical_crossentropy', metrics=['accuracy'])\n",
        "\n",
        "history = model_relu.fit(X_train, Y_train, batch_size=batch_size, epochs=nb_epoch, verbose=1, validation_data=(X_test, Y_test))"
      ],
      "execution_count": null,
      "outputs": [
        {
          "output_type": "stream",
          "text": [
            "Train on 60000 samples, validate on 10000 samples\n",
            "Epoch 1/20\n",
            "60000/60000 [==============================] - 4s 68us/step - loss: 0.3565 - acc: 0.9005 - val_loss: 0.1791 - val_acc: 0.9494\n",
            "Epoch 2/20\n",
            "60000/60000 [==============================] - 4s 61us/step - loss: 0.1479 - acc: 0.9585 - val_loss: 0.1226 - val_acc: 0.9649\n",
            "Epoch 3/20\n",
            "60000/60000 [==============================] - 4s 60us/step - loss: 0.1029 - acc: 0.9707 - val_loss: 0.0947 - val_acc: 0.9724\n",
            "Epoch 4/20\n",
            "60000/60000 [==============================] - 4s 60us/step - loss: 0.0761 - acc: 0.9787 - val_loss: 0.0827 - val_acc: 0.9748\n",
            "Epoch 5/20\n",
            "60000/60000 [==============================] - 4s 61us/step - loss: 0.0599 - acc: 0.9833 - val_loss: 0.0759 - val_acc: 0.9773\n",
            "Epoch 6/20\n",
            "60000/60000 [==============================] - 4s 62us/step - loss: 0.0465 - acc: 0.9875 - val_loss: 0.0676 - val_acc: 0.9787\n",
            "Epoch 7/20\n",
            "60000/60000 [==============================] - 4s 63us/step - loss: 0.0372 - acc: 0.9902 - val_loss: 0.0667 - val_acc: 0.9793\n",
            "Epoch 8/20\n",
            "60000/60000 [==============================] - 4s 62us/step - loss: 0.0302 - acc: 0.9923 - val_loss: 0.0632 - val_acc: 0.9798\n",
            "Epoch 9/20\n",
            "60000/60000 [==============================] - 4s 61us/step - loss: 0.0244 - acc: 0.9941 - val_loss: 0.0701 - val_acc: 0.9778\n",
            "Epoch 10/20\n",
            "60000/60000 [==============================] - 4s 61us/step - loss: 0.0200 - acc: 0.9954 - val_loss: 0.0624 - val_acc: 0.9818\n",
            "Epoch 11/20\n",
            "60000/60000 [==============================] - 4s 61us/step - loss: 0.0159 - acc: 0.9967 - val_loss: 0.0642 - val_acc: 0.9795\n",
            "Epoch 12/20\n",
            "60000/60000 [==============================] - 4s 61us/step - loss: 0.0129 - acc: 0.9977 - val_loss: 0.0622 - val_acc: 0.9819\n",
            "Epoch 13/20\n",
            "60000/60000 [==============================] - 4s 61us/step - loss: 0.0107 - acc: 0.9981 - val_loss: 0.0677 - val_acc: 0.9804\n",
            "Epoch 14/20\n",
            "60000/60000 [==============================] - 4s 61us/step - loss: 0.0094 - acc: 0.9985 - val_loss: 0.0667 - val_acc: 0.9804\n",
            "Epoch 15/20\n",
            "60000/60000 [==============================] - 4s 61us/step - loss: 0.0085 - acc: 0.9984 - val_loss: 0.0636 - val_acc: 0.9818\n",
            "Epoch 16/20\n",
            "60000/60000 [==============================] - 4s 61us/step - loss: 0.0063 - acc: 0.9991 - val_loss: 0.0648 - val_acc: 0.9810\n",
            "Epoch 17/20\n",
            "60000/60000 [==============================] - 4s 61us/step - loss: 0.0045 - acc: 0.9996 - val_loss: 0.0660 - val_acc: 0.9821\n",
            "Epoch 18/20\n",
            "60000/60000 [==============================] - 4s 61us/step - loss: 0.0033 - acc: 0.9999 - val_loss: 0.0636 - val_acc: 0.9821\n",
            "Epoch 19/20\n",
            "60000/60000 [==============================] - 4s 62us/step - loss: 0.0029 - acc: 0.9999 - val_loss: 0.0641 - val_acc: 0.9828\n",
            "Epoch 20/20\n",
            "60000/60000 [==============================] - 4s 61us/step - loss: 0.0025 - acc: 0.9999 - val_loss: 0.0657 - val_acc: 0.9823\n"
          ],
          "name": "stdout"
        }
      ]
    },
    {
      "cell_type": "code",
      "metadata": {
        "id": "6ffjzr8hQKb8",
        "colab": {
          "base_uri": "https://localhost:8080/",
          "height": 317
        },
        "outputId": "ed242405-28f5-4cf2-e9a8-655a6e30b3fc"
      },
      "source": [
        "score = model_relu.evaluate(X_test, Y_test, verbose=0) \n",
        "print('Test score:', score[0]) \n",
        "print('Test accuracy:', score[1])\n",
        "\n",
        "fig,ax = plt.subplots(1,1)\n",
        "ax.set_xlabel('epoch') ; ax.set_ylabel('Categorical Crossentropy Loss')\n",
        "\n",
        "# list of epoch numbers\n",
        "x = list(range(1,nb_epoch+1))\n",
        "\n",
        "# print(history.history.keys())\n",
        "# dict_keys(['val_loss', 'val_acc', 'loss', 'acc'])\n",
        "# history = model_drop.fit(X_train, Y_train, batch_size=batch_size, epochs=nb_epoch, verbose=1, validation_data=(X_test, Y_test))\n",
        "\n",
        "# we will get val_loss and val_acc only when you pass the paramter validation_data\n",
        "# val_loss : validation loss\n",
        "# val_acc : validation accuracy\n",
        "\n",
        "# loss : training loss\n",
        "# acc : train accuracy\n",
        "# for each key in histrory.histrory we will have a list of length equal to number of epochs\n",
        "\n",
        "vy = history.history['val_loss']\n",
        "ty = history.history['loss']\n",
        "plt_dynamic(x, vy, ty, ax)"
      ],
      "execution_count": null,
      "outputs": [
        {
          "output_type": "stream",
          "text": [
            "Test score: 0.06567277045068477\n",
            "Test accuracy: 0.9823\n"
          ],
          "name": "stdout"
        },
        {
          "output_type": "display_data",
          "data": {
            "image/png": "[encoded data removed]",
            "text/plain": [
              "<Figure size 432x288 with 1 Axes>"
            ]
          },
          "metadata": {
            "tags": []
          }
        }
      ]
    },
    {
      "cell_type": "markdown",
      "metadata": {
        "id": "ExLv_CAeQKcA"
      },
      "source": [
        "<h2>MLP + Sigmoid activation + ADAM </h2>"
      ]
    },
    {
      "cell_type": "code",
      "metadata": {
        "id": "w9BtnNGaQKcD",
        "colab": {
          "base_uri": "https://localhost:8080/",
          "height": 1516
        },
        "outputId": "7e777346-76d4-42e7-f848-593d00cf7cfd"
      },
      "source": [
        "# Multilayer perceptron\n",
        "from keras.layers.normalization import BatchNormalization\n",
        "from keras.layers import Dropout\n",
        "\n",
        "model_relu = Sequential()\n",
        "model_relu.add(Dense(512, activation='relu', input_shape=(input_dim,),kernel_initializer='he_normal'))\n",
        "model_relu.add(Dropout(1-0.5))\n",
        "model_relu.add(Dense(256, activation='relu',kernel_initializer='he_normal'))\n",
        "model_relu.add(BatchNormalization())\n",
        "model_relu.add(Dropout(1-0.5))\n",
        "model_relu.add(Dense(128, activation='relu',kernel_initializer='he_normal'))\n",
        "model_relu.add(BatchNormalization())\n",
        "model_relu.add(Dense(output_dim, activation='softmax'))\n",
        "\n",
        "model_relu.summary()\n",
        "\n",
        "model_relu.compile(optimizer='adam', loss='categorical_crossentropy', metrics=['accuracy'])\n",
        "\n",
        "history = model_relu.fit(X_train, Y_train, batch_size=batch_size, epochs=nb_epoch, verbose=1, validation_data=(X_test, Y_test))"
      ],
      "execution_count": null,
      "outputs": [
        {
          "output_type": "stream",
          "text": [
            "WARNING:tensorflow:From /usr/local/lib/python3.6/dist-packages/keras/backend/tensorflow_backend.py:3445: calling dropout (from tensorflow.python.ops.nn_ops) with keep_prob is deprecated and will be removed in a future version.\n",
            "Instructions for updating:\n",
            "Please use `rate` instead of `keep_prob`. Rate should be set to `rate = 1 - keep_prob`.\n",
            "_________________________________________________________________\n",
            "Layer (type)                 Output Shape              Param #   \n",
            "=================================================================\n",
            "dense_4 (Dense)              (None, 512)               401920    \n",
            "_________________________________________________________________\n",
            "dropout_1 (Dropout)          (None, 512)               0         \n",
            "_________________________________________________________________\n",
            "dense_5 (Dense)              (None, 256)               131328    \n",
            "_________________________________________________________________\n",
            "batch_normalization_1 (Batch (None, 256)               1024      \n",
            "_________________________________________________________________\n",
            "dropout_2 (Dropout)          (None, 256)               0         \n",
            "_________________________________________________________________\n",
            "dense_6 (Dense)              (None, 128)               32896     \n",
            "_________________________________________________________________\n",
            "batch_normalization_2 (Batch (None, 128)               512       \n",
            "_________________________________________________________________\n",
            "dense_7 (Dense)              (None, 10)                1290      \n",
            "=================================================================\n",
            "Total params: 568,970\n",
            "Trainable params: 568,202\n",
            "Non-trainable params: 768\n",
            "_________________________________________________________________\n",
            "Train on 60000 samples, validate on 10000 samples\n",
            "Epoch 1/30\n",
            "60000/60000 [==============================] - 9s 146us/step - loss: 0.5376 - acc: 0.8318 - val_loss: 0.1591 - val_acc: 0.9511\n",
            "Epoch 2/30\n",
            "60000/60000 [==============================] - 8s 133us/step - loss: 0.2136 - acc: 0.9350 - val_loss: 0.1162 - val_acc: 0.9631\n",
            "Epoch 3/30\n",
            "60000/60000 [==============================] - 8s 129us/step - loss: 0.1621 - acc: 0.9509 - val_loss: 0.0938 - val_acc: 0.9704\n",
            "Epoch 4/30\n",
            "60000/60000 [==============================] - 8s 130us/step - loss: 0.1364 - acc: 0.9577 - val_loss: 0.0854 - val_acc: 0.9727\n",
            "Epoch 5/30\n",
            "60000/60000 [==============================] - 8s 129us/step - loss: 0.1177 - acc: 0.9628 - val_loss: 0.0783 - val_acc: 0.9758\n",
            "Epoch 6/30\n",
            "60000/60000 [==============================] - 8s 130us/step - loss: 0.1058 - acc: 0.9674 - val_loss: 0.0747 - val_acc: 0.9767\n",
            "Epoch 7/30\n",
            "60000/60000 [==============================] - 8s 130us/step - loss: 0.0937 - acc: 0.9706 - val_loss: 0.0719 - val_acc: 0.9788\n",
            "Epoch 8/30\n",
            "60000/60000 [==============================] - 8s 130us/step - loss: 0.0870 - acc: 0.9720 - val_loss: 0.0705 - val_acc: 0.9787\n",
            "Epoch 9/30\n",
            "60000/60000 [==============================] - 8s 129us/step - loss: 0.0786 - acc: 0.9751 - val_loss: 0.0670 - val_acc: 0.9799\n",
            "Epoch 10/30\n",
            "60000/60000 [==============================] - 8s 130us/step - loss: 0.0757 - acc: 0.9759 - val_loss: 0.0623 - val_acc: 0.9817\n",
            "Epoch 11/30\n",
            "60000/60000 [==============================] - 8s 131us/step - loss: 0.0720 - acc: 0.9768 - val_loss: 0.0634 - val_acc: 0.9816\n",
            "Epoch 12/30\n",
            "60000/60000 [==============================] - 8s 130us/step - loss: 0.0643 - acc: 0.9797 - val_loss: 0.0617 - val_acc: 0.9814\n",
            "Epoch 13/30\n",
            "60000/60000 [==============================] - 8s 129us/step - loss: 0.0608 - acc: 0.9807 - val_loss: 0.0632 - val_acc: 0.9813\n",
            "Epoch 14/30\n",
            "60000/60000 [==============================] - 8s 130us/step - loss: 0.0605 - acc: 0.9806 - val_loss: 0.0603 - val_acc: 0.9822\n",
            "Epoch 15/30\n",
            "60000/60000 [==============================] - 8s 131us/step - loss: 0.0556 - acc: 0.9818 - val_loss: 0.0585 - val_acc: 0.9822\n",
            "Epoch 16/30\n",
            "60000/60000 [==============================] - 8s 130us/step - loss: 0.0537 - acc: 0.9828 - val_loss: 0.0592 - val_acc: 0.9817\n",
            "Epoch 17/30\n",
            "60000/60000 [==============================] - 8s 130us/step - loss: 0.0510 - acc: 0.9833 - val_loss: 0.0541 - val_acc: 0.9842\n",
            "Epoch 18/30\n",
            "60000/60000 [==============================] - 8s 129us/step - loss: 0.0471 - acc: 0.9847 - val_loss: 0.0532 - val_acc: 0.9844\n",
            "Epoch 19/30\n",
            "60000/60000 [==============================] - 8s 131us/step - loss: 0.0450 - acc: 0.9851 - val_loss: 0.0549 - val_acc: 0.9842\n",
            "Epoch 20/30\n",
            "60000/60000 [==============================] - 8s 130us/step - loss: 0.0465 - acc: 0.9849 - val_loss: 0.0621 - val_acc: 0.9834\n",
            "Epoch 21/30\n",
            "60000/60000 [==============================] - 8s 132us/step - loss: 0.0450 - acc: 0.9850 - val_loss: 0.0556 - val_acc: 0.9849\n",
            "Epoch 22/30\n",
            "60000/60000 [==============================] - 8s 129us/step - loss: 0.0412 - acc: 0.9864 - val_loss: 0.0565 - val_acc: 0.9845\n",
            "Epoch 23/30\n",
            "60000/60000 [==============================] - 8s 129us/step - loss: 0.0414 - acc: 0.9862 - val_loss: 0.0575 - val_acc: 0.9841\n",
            "Epoch 24/30\n",
            "60000/60000 [==============================] - 8s 130us/step - loss: 0.0419 - acc: 0.9869 - val_loss: 0.0579 - val_acc: 0.9827\n",
            "Epoch 25/30\n",
            "60000/60000 [==============================] - 8s 130us/step - loss: 0.0373 - acc: 0.9876 - val_loss: 0.0560 - val_acc: 0.9841\n",
            "Epoch 26/30\n",
            "60000/60000 [==============================] - 8s 130us/step - loss: 0.0374 - acc: 0.9880 - val_loss: 0.0552 - val_acc: 0.9838\n",
            "Epoch 27/30\n",
            "60000/60000 [==============================] - 8s 130us/step - loss: 0.0336 - acc: 0.9892 - val_loss: 0.0557 - val_acc: 0.9853\n",
            "Epoch 28/30\n",
            "60000/60000 [==============================] - 8s 130us/step - loss: 0.0336 - acc: 0.9892 - val_loss: 0.0566 - val_acc: 0.9853\n",
            "Epoch 29/30\n",
            "60000/60000 [==============================] - 8s 130us/step - loss: 0.0331 - acc: 0.9892 - val_loss: 0.0584 - val_acc: 0.9839\n",
            "Epoch 30/30\n",
            "60000/60000 [==============================] - 8s 129us/step - loss: 0.0334 - acc: 0.9889 - val_loss: 0.0578 - val_acc: 0.9846\n"
          ],
          "name": "stdout"
        }
      ]
    },
    {
      "cell_type": "code",
      "metadata": {
        "id": "AslSnqQ2QKcF",
        "colab": {
          "base_uri": "https://localhost:8080/",
          "height": 317
        },
        "outputId": "73be865c-4e2f-4126-b86a-aee666dc5beb"
      },
      "source": [
        "score = model_relu.evaluate(X_test, Y_test, verbose=0) \n",
        "print('Test score:', score[0]) \n",
        "print('Test accuracy:', score[1])\n",
        "\n",
        "fig,ax = plt.subplots(1,1)\n",
        "ax.set_xlabel('epoch') ; ax.set_ylabel('Categorical Crossentropy Loss')\n",
        "\n",
        "# list of epoch numbers\n",
        "x = list(range(1,nb_epoch+1))\n",
        "\n",
        "# print(history.history.keys())\n",
        "# dict_keys(['val_loss', 'val_acc', 'loss', 'acc'])\n",
        "# history = model_drop.fit(X_train, Y_train, batch_size=batch_size, epochs=nb_epoch, verbose=1, validation_data=(X_test, Y_test))\n",
        "\n",
        "# we will get val_loss and val_acc only when you pass the paramter validation_data\n",
        "# val_loss : validation loss\n",
        "# val_acc : validation accuracy\n",
        "\n",
        "# loss : training loss\n",
        "# acc : train accuracy\n",
        "# for each key in histrory.histrory we will have a list of length equal to number of epochs\n",
        "\n",
        "vy = history.history['val_loss']\n",
        "ty = history.history['loss']\n",
        "plt_dynamic(x, vy, ty, ax)"
      ],
      "execution_count": null,
      "outputs": [
        {
          "output_type": "stream",
          "text": [
            "Test score: 0.05784901397716894\n",
            "Test accuracy: 0.9846\n"
          ],
          "name": "stdout"
        },
        {
          "output_type": "display_data",
          "data": {
            "image/png": "[encoded data removed]",
            "text/plain": [
              "<Figure size 432x288 with 1 Axes>"
            ]
          },
          "metadata": {
            "tags": []
          }
        }
      ]
    },
    {
      "cell_type": "code",
      "metadata": {
        "id": "O8lG2jzmQKcM",
        "colab": {
          "base_uri": "https://localhost:8080/",
          "height": 306
        },
        "outputId": "46406566-8004-4098-e16c-3a5f73421662"
      },
      "source": [
        "# Multilayer perceptron\n",
        "\n",
        "# https://arxiv.org/pdf/1707.09725.pdf#page=95\n",
        "# for relu layers\n",
        "# If we sample weights from a normal distribution N(0,σ) we satisfy this condition with σ=√(2/(ni). \n",
        "# h1 =>  σ=√(2/(fan_in) = 0.062  => N(0,σ) = N(0,0.062)\n",
        "# h2 =>  σ=√(2/(fan_in) = 0.125  => N(0,σ) = N(0,0.125)\n",
        "# out =>  σ=√(2/(fan_in+1) = 0.120  => N(0,σ) = N(0,0.120)\n",
        "\n",
        "model_relu = Sequential()\n",
        "model_relu.add(Dense(64, activation='relu', input_shape=(input_dim,), kernel_initializer='he_normal'))\n",
        "model_relu.add(Dense(64, activation='relu', input_shape=(input_dim,), kernel_initializer='he_normal'))\n",
        "model_relu.add(Dense(64, activation='relu', input_shape=(input_dim,), kernel_initializer='he_normal'))\n",
        "model_relu.add(Dense(64, activation='relu', input_shape=(input_dim,), kernel_initializer='he_normal'))\n",
        "model_relu.add(Dense(output_dim, activation='softmax'))\n",
        "\n",
        "model_relu.summary()"
      ],
      "execution_count": null,
      "outputs": [
        {
          "output_type": "stream",
          "text": [
            "_________________________________________________________________\n",
            "Layer (type)                 Output Shape              Param #   \n",
            "=================================================================\n",
            "dense_17 (Dense)             (None, 64)                50240     \n",
            "_________________________________________________________________\n",
            "dense_18 (Dense)             (None, 64)                4160      \n",
            "_________________________________________________________________\n",
            "dense_19 (Dense)             (None, 64)                4160      \n",
            "_________________________________________________________________\n",
            "dense_20 (Dense)             (None, 64)                4160      \n",
            "_________________________________________________________________\n",
            "dense_21 (Dense)             (None, 10)                650       \n",
            "=================================================================\n",
            "Total params: 63,370\n",
            "Trainable params: 63,370\n",
            "Non-trainable params: 0\n",
            "_________________________________________________________________\n"
          ],
          "name": "stdout"
        }
      ]
    },
    {
      "cell_type": "code",
      "metadata": {
        "id": "QhtoviFKQKcP",
        "colab": {
          "base_uri": "https://localhost:8080/",
          "height": 714
        },
        "outputId": "908ec43d-ef3e-42cc-c603-0a71fc80ce04"
      },
      "source": [
        "model_relu.compile(optimizer='adam', loss='categorical_crossentropy', metrics=['accuracy'])\n",
        "\n",
        "history = model_relu.fit(X_train, Y_train, batch_size=batch_size, epochs=nb_epoch, verbose=1, validation_data=(X_test, Y_test))"
      ],
      "execution_count": null,
      "outputs": [
        {
          "output_type": "stream",
          "text": [
            "Train on 60000 samples, validate on 10000 samples\n",
            "Epoch 1/20\n",
            "60000/60000 [==============================] - 3s 45us/step - loss: 0.4630 - acc: 0.8607 - val_loss: 0.1892 - val_acc: 0.9429\n",
            "Epoch 2/20\n",
            "60000/60000 [==============================] - 2s 30us/step - loss: 0.1623 - acc: 0.9524 - val_loss: 0.1297 - val_acc: 0.9601\n",
            "Epoch 3/20\n",
            "60000/60000 [==============================] - 2s 30us/step - loss: 0.1189 - acc: 0.9641 - val_loss: 0.1239 - val_acc: 0.9613\n",
            "Epoch 4/20\n",
            "60000/60000 [==============================] - 2s 32us/step - loss: 0.0956 - acc: 0.9718 - val_loss: 0.1006 - val_acc: 0.9685\n",
            "Epoch 5/20\n",
            "60000/60000 [==============================] - 2s 31us/step - loss: 0.0754 - acc: 0.9769 - val_loss: 0.1035 - val_acc: 0.9695\n",
            "Epoch 6/20\n",
            "60000/60000 [==============================] - 2s 31us/step - loss: 0.0662 - acc: 0.9796 - val_loss: 0.1015 - val_acc: 0.9692\n",
            "Epoch 7/20\n",
            "60000/60000 [==============================] - 2s 30us/step - loss: 0.0573 - acc: 0.9819 - val_loss: 0.0941 - val_acc: 0.9698\n",
            "Epoch 8/20\n",
            "60000/60000 [==============================] - 2s 30us/step - loss: 0.0490 - acc: 0.9845 - val_loss: 0.1085 - val_acc: 0.9687\n",
            "Epoch 9/20\n",
            "60000/60000 [==============================] - 2s 29us/step - loss: 0.0432 - acc: 0.9868 - val_loss: 0.0895 - val_acc: 0.9735\n",
            "Epoch 10/20\n",
            "60000/60000 [==============================] - 2s 30us/step - loss: 0.0363 - acc: 0.9881 - val_loss: 0.0924 - val_acc: 0.9730\n",
            "Epoch 11/20\n",
            "60000/60000 [==============================] - 2s 33us/step - loss: 0.0325 - acc: 0.9899 - val_loss: 0.1015 - val_acc: 0.9733\n",
            "Epoch 12/20\n",
            "60000/60000 [==============================] - 2s 32us/step - loss: 0.0308 - acc: 0.9904 - val_loss: 0.1033 - val_acc: 0.9710\n",
            "Epoch 13/20\n",
            "60000/60000 [==============================] - 2s 32us/step - loss: 0.0268 - acc: 0.9914 - val_loss: 0.1112 - val_acc: 0.9708\n",
            "Epoch 14/20\n",
            "60000/60000 [==============================] - 2s 30us/step - loss: 0.0232 - acc: 0.9927 - val_loss: 0.1077 - val_acc: 0.9732\n",
            "Epoch 15/20\n",
            "60000/60000 [==============================] - 2s 30us/step - loss: 0.0202 - acc: 0.9935 - val_loss: 0.1339 - val_acc: 0.9681\n",
            "Epoch 16/20\n",
            "60000/60000 [==============================] - 2s 30us/step - loss: 0.0235 - acc: 0.9925 - val_loss: 0.1113 - val_acc: 0.9741\n",
            "Epoch 17/20\n",
            "60000/60000 [==============================] - 2s 29us/step - loss: 0.0164 - acc: 0.9945 - val_loss: 0.1228 - val_acc: 0.9724\n",
            "Epoch 18/20\n",
            "60000/60000 [==============================] - 2s 30us/step - loss: 0.0155 - acc: 0.9950 - val_loss: 0.1206 - val_acc: 0.9713\n",
            "Epoch 19/20\n",
            "60000/60000 [==============================] - 2s 30us/step - loss: 0.0138 - acc: 0.9954 - val_loss: 0.1258 - val_acc: 0.9721\n",
            "Epoch 20/20\n",
            "60000/60000 [==============================] - 2s 30us/step - loss: 0.0189 - acc: 0.9939 - val_loss: 0.1407 - val_acc: 0.9690\n"
          ],
          "name": "stdout"
        }
      ]
    },
    {
      "cell_type": "code",
      "metadata": {
        "id": "0rKzoKxgQKcS",
        "colab": {
          "base_uri": "https://localhost:8080/",
          "height": 317
        },
        "outputId": "15240c95-fa69-4b38-83b6-b0e39454525c"
      },
      "source": [
        "score = model_relu.evaluate(X_test, Y_test, verbose=0) \n",
        "print('Test score:', score[0]) \n",
        "print('Test accuracy:', score[1])\n",
        "\n",
        "fig,ax = plt.subplots(1,1)\n",
        "ax.set_xlabel('epoch') ; ax.set_ylabel('Categorical Crossentropy Loss')\n",
        "\n",
        "# list of epoch numbers\n",
        "x = list(range(1,nb_epoch+1))\n",
        "\n",
        "# print(history.history.keys())\n",
        "# dict_keys(['val_loss', 'val_acc', 'loss', 'acc'])\n",
        "# history = model_drop.fit(X_train, Y_train, batch_size=batch_size, epochs=nb_epoch, verbose=1, validation_data=(X_test, Y_test))\n",
        "\n",
        "# we will get val_loss and val_acc only when you pass the paramter validation_data\n",
        "# val_loss : validation loss\n",
        "# val_acc : validation accuracy\n",
        "\n",
        "# loss : training loss\n",
        "# acc : train accuracy\n",
        "# for each key in histrory.histrory we will have a list of length equal to number of epochs\n",
        "\n",
        "vy = history.history['val_loss']\n",
        "ty = history.history['loss']\n",
        "plt_dynamic(x, vy, ty, ax)"
      ],
      "execution_count": null,
      "outputs": [
        {
          "output_type": "stream",
          "text": [
            "Test score: 0.14065807280830805\n",
            "Test accuracy: 0.969\n"
          ],
          "name": "stdout"
        },
        {
          "output_type": "display_data",
          "data": {
            "image/png": "[encoded data removed]",
            "text/plain": [
              "<Figure size 432x288 with 1 Axes>"
            ]
          },
          "metadata": {
            "tags": []
          }
        }
      ]
    }
  ]
}